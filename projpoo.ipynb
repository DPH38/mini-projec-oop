{
 "cells": [
  {
   "cell_type": "code",
   "execution_count": null,
   "metadata": {},
   "outputs": [],
   "source": [
    "class Corrida ():\n",
    "    \"Classe contém valores relacionados a corrida (forma de pagamento, tempo, distancia) e métodos de cálculo do valor de cada corrida\"\n",
    "\n",
    "    def __init__(self, forma_pagamento: str, tempo_minutos: float = 0.00, distancia_km: float = 0.00) -> None:\n",
    "        self.forma_pagamento = forma_pagamento\n",
    "        self.tempo_minutos = tempo_minutos\n",
    "        self.distancia_km = distancia_km\n",
    "\n",
    "    def valor_base(self) -> float:\n",
    "        \"Apura o valor base de cada corrida, antes dos descontos\"\n",
    "\n",
    "        preco_km = float(1.60)  # valor cobrado por km rodado\n",
    "\n",
    "        preco_tempo_min = float(0.60)  # valor cobrado por hora rodada\n",
    "       \n",
    "        #calculo do valor final\n",
    "        preco_base = float((preco_km * (abs(self.distancia_km)*2)) +\n",
    "                           ((abs(self.tempo_minutos))/2)*preco_tempo_min)\n",
    "\n",
    "        return preco_base\n",
    "\n",
    "    def percentual_desconto(self) -> float:\n",
    "        \"Determina o percentual do desconto de acordo com metodo de pagamento\"\n",
    "\n",
    "        if self.forma_pagamento == \"dinheiro\":\n",
    "            percentual_desconto = 0\n",
    "            return percentual_desconto\n",
    "\n",
    "        elif self.forma_pagamento == \"cartao\":\n",
    "            percentual_desconto = 0.05\n",
    "            return percentual_desconto\n",
    "\n",
    "        else:\n",
    "            percentual_desconto = 0.1\n",
    "            return percentual_desconto\n",
    "\n",
    "    def valor_final(self) -> float:\n",
    "        \"Metodo que apura o valor final (líquido de eventual desconto)da corrida\"\n",
    "\n",
    "        cobrar_cheio = self.valor_base()\n",
    "\n",
    "        valor_desconto = cobrar_cheio * self.percentual_desconto()\n",
    "        \n",
    "        valor_cobrar = cobrar_cheio - valor_desconto\n",
    "\n",
    "        return valor_cobrar"
   ]
  },
  {
   "cell_type": "code",
   "execution_count": null,
   "metadata": {},
   "outputs": [],
   "source": [
    "class Viagem():\n",
    "    \"Classe que encapsula dados que são relacionados a cada corrida\"\n",
    "\n",
    "    def __init__(self, distancia_km, valor_viagem, origem: str = None, destino: str = None,) -> None:\n",
    "        self.origem = origem\n",
    "        self.destino = destino\n",
    "        self.distancia_km = distancia_km\n",
    "        self.valor_viagem = valor_viagem"
   ]
  },
  {
   "cell_type": "code",
   "execution_count": null,
   "metadata": {},
   "outputs": [],
   "source": [
    "class Pagamento():\n",
    "    \"Classe com atributos relacionados a metodo e valores dos pagamentos\"\n",
    "\n",
    "    def __init__(self, forma_pagamento: str, valor_pago: float = 0) -> None:\n",
    "        self.forma_pagamento = forma_pagamento\n",
    "        self.valor_pago = valor_pago"
   ]
  },
  {
   "cell_type": "code",
   "execution_count": null,
   "metadata": {},
   "outputs": [],
   "source": [
    "import random\n",
    "\n",
    "class Motorista():\n",
    "    \"Classe com atributos e metodos pertinentes ao objeto motorista\"\n",
    "\n",
    "    registro_corridas = {} # dict atributo de classe para armazenar os dados das corridas \n",
    "\n",
    "    def __init__(self, nome: str, dados_corridas: list) -> None:\n",
    "        self.nome = nome\n",
    "        self.dados_corridas = dados_corridas  # lista que contem objetos de outras classes\n",
    "\n",
    "    def adicionar_corrida(self) -> dict:\n",
    "        \"Método que registra em um dicionário os dados pertinentes a uma corrida\"\n",
    "\n",
    "        id_corrida = random.randint(1, 1000)\n",
    "\n",
    "        self.registro_corridas[id_corrida] = {'Motorista': self.nome, 'Distancia_km': self.dados_corridas[0].distancia_km,\n",
    "                                              'Metodo_Pagamento': self.dados_corridas[0].forma_pagamento,\n",
    "                                              'Tempo_Corrida': self.dados_corridas[0].tempo_minutos,\n",
    "                                              \"Origem\": self.dados_corridas[1].origem,\n",
    "                                              'Destino': self.dados_corridas[1].destino, 'Valor_Recebido': self.dados_corridas[2].valor_pago}\n",
    "\n",
    "        return ('Registro inserido com sucesso.')\n",
    "\n",
    "    def total_motorista(self, nome_motorista) -> float:\n",
    "        #Método para levantar os valores totais recebidos por um motorista\n",
    "        soma = 0\n",
    "        for valor in self.registro_corridas.values():\n",
    "            if valor['Motorista'] == nome_motorista:\n",
    "                soma += valor['Valor_Recebido']\n",
    "        return soma"
   ]
  },
  {
   "cell_type": "code",
   "execution_count": null,
   "metadata": {},
   "outputs": [],
   "source": [
    "def valida_metodo():\n",
    "    \"validar o metodo de pagamento\"\n",
    "    while True:\n",
    "        forma = input(\"Insira a forma de pagamento: dinheiro, cartao, pix\")\n",
    "        try:\n",
    "            if forma == 'dinheiro' or forma == 'cartao' or forma == 'pix':\n",
    "                return forma\n",
    "        except:\n",
    "            valida_metodo()\n",
    "\n",
    "def validar_minutos():\n",
    "    \"validar entrada com minutos rodados\"\n",
    "\n",
    "    while True:\n",
    "        valor = input(\"Insira a duracao em minutos: \")\n",
    "        try:\n",
    "            valor = float(valor)\n",
    "            if valor > 0:\n",
    "                return valor\n",
    "        except:\n",
    "            validar_minutos()\n",
    "\n",
    "def validar_km():\n",
    "    \"validar entrada com km rodado\"\n",
    "\n",
    "    while True:\n",
    "        valor = input(\"Insira a kilometragem rodada: \")\n",
    "        try:\n",
    "            valor = float(valor)\n",
    "            if valor > 0:\n",
    "                return valor\n",
    "        except:\n",
    "            validar_km()"
   ]
  },
  {
   "cell_type": "code",
   "execution_count": null,
   "metadata": {},
   "outputs": [],
   "source": [
    "# objeto da classe Corrida\n",
    "\n",
    "forma = valida_metodo()\n",
    "minutos = validar_minutos()\n",
    "kmrodado = validar_km()\n",
    "corrida = Corrida(forma, minutos, kmrodado)\n",
    "\n",
    "# objeto da classe Viagem\n",
    "origem = str(input(\"Insira a rua de partida: \"))\n",
    "destino = str(input(\"Insira a rua do destino: \"))\n",
    "viagem = Viagem(corrida.distancia_km, corrida.valor_final(),\n",
    "                origem, destino)\n",
    "\n",
    "# objeto da classe Pagamento\n",
    "pagamento = Pagamento(corrida.forma_pagamento, corrida.valor_final())\n",
    "\n",
    "# objeto da classe Motorista\n",
    "profissional = str(input(\"Insira o nome do motorista: \"))\n",
    "motorista = Motorista(profissional, [corrida, viagem, pagamento])\n",
    "\n",
    "# chama metodo que adiciona corrida no dicionario\n",
    "registro = motorista.adicionar_corrida()\n",
    "print(registro)"
   ]
  },
  {
   "cell_type": "code",
   "execution_count": 66,
   "metadata": {},
   "outputs": [
    {
     "name": "stdout",
     "output_type": "stream",
     "text": [
      "{\n",
      "    \"217\": {\n",
      "        \"Motorista\": \"Zoe\",\n",
      "        \"Distancia_km\": 25.0,\n",
      "        \"Metodo_Pagamento\": \"dinheiro\",\n",
      "        \"Tempo_Corrida\": 32.0,\n",
      "        \"Origem\": \"rua o\",\n",
      "        \"Destino\": \"rua a\",\n",
      "        \"Valor_Recebido\": 89.6\n",
      "    },\n",
      "    \"560\": {\n",
      "        \"Motorista\": \"Zoe\",\n",
      "        \"Distancia_km\": 23.0,\n",
      "        \"Metodo_Pagamento\": \"pix\",\n",
      "        \"Tempo_Corrida\": 31.6,\n",
      "        \"Origem\": \"pp\",\n",
      "        \"Destino\": \"qq\",\n",
      "        \"Valor_Recebido\": 74.772\n",
      "    },\n",
      "    \"744\": {\n",
      "        \"Motorista\": \"Paulo\",\n",
      "        \"Distancia_km\": 5.0,\n",
      "        \"Metodo_Pagamento\": \"cartao\",\n",
      "        \"Tempo_Corrida\": 12.0,\n",
      "        \"Origem\": \"rua dos cachorros\",\n",
      "        \"Destino\": \"rua dos bezerros\",\n",
      "        \"Valor_Recebido\": 18.62\n",
      "    }\n",
      "}\n"
     ]
    }
   ],
   "source": [
    "import json\n",
    "\n",
    "consulta_base = motorista.registro_corridas\n",
    "print(json.dumps(consulta_base, indent=4))"
   ]
  },
  {
   "cell_type": "code",
   "execution_count": 67,
   "metadata": {},
   "outputs": [
    {
     "name": "stdout",
     "output_type": "stream",
     "text": [
      "O motorista Zoe recebeu o valor total liquido de R$ 164.37.\n"
     ]
    }
   ],
   "source": [
    "consulta = 'Zoe'\n",
    "total = motorista.total_motorista(consulta)\n",
    "print(f'O motorista {consulta} recebeu o valor total liquido de R$ {total:.2f}.')"
   ]
  }
 ],
 "metadata": {
  "kernelspec": {
   "display_name": "Python 3",
   "language": "python",
   "name": "python3"
  },
  "language_info": {
   "codemirror_mode": {
    "name": "ipython",
    "version": 3
   },
   "file_extension": ".py",
   "mimetype": "text/x-python",
   "name": "python",
   "nbconvert_exporter": "python",
   "pygments_lexer": "ipython3",
   "version": "3.10.6"
  },
  "orig_nbformat": 4
 },
 "nbformat": 4,
 "nbformat_minor": 2
}
